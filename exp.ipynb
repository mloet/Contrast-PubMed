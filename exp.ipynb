{
 "cells": [
  {
   "cell_type": "code",
   "execution_count": 2,
   "metadata": {},
   "outputs": [
    {
     "name": "stderr",
     "output_type": "stream",
     "text": [
      "/home/mloet/miniconda3/envs/lang/lib/python3.12/site-packages/tqdm/auto.py:21: TqdmWarning: IProgress not found. Please update jupyter and ipywidgets. See https://ipywidgets.readthedocs.io/en/stable/user_install.html\n",
      "  from .autonotebook import tqdm as notebook_tqdm\n"
     ]
    }
   ],
   "source": [
    "%load_ext autoreload\n",
    "%autoreload 2\n",
    "from utils import *\n",
    "from datasets import load_dataset\n",
    "from transformers import (\n",
    "    HfArgumentParser, \n",
    "    TrainingArguments,\n",
    "    AutoTokenizer,\n",
    "    AutoModelForSequenceClassification,\n",
    "    Trainer\n",
    ")\n",
    "from link import *"
   ]
  },
  {
   "cell_type": "code",
   "execution_count": 88,
   "metadata": {},
   "outputs": [
    {
     "name": "stdout",
     "output_type": "stream",
     "text": [
      "\n",
      "Label distribution in train split:\n",
      "yes: 276 (62.02%)\n",
      "no: 169 (37.98%)\n",
      "Total examples in train: 445\n",
      "\n",
      "Label distribution in test split:\n",
      "yes: 276 (62.02%)\n",
      "no: 169 (37.98%)\n",
      "Total examples in test: 445\n"
     ]
    }
   ],
   "source": [
    "with open('boolq_perturbed.json', 'r') as f:\n",
    "  json_data = json.load(f)\n",
    "bundles = convert_bundles_to_yn(json_data)\n",
    "with open('pubmed_test.json', 'r') as f:\n",
    "  pubmed_test = json.load(f)\n",
    "pubmed = load_dataset('qiaojin/PubMedQA', 'pqa_labeled')\n",
    "pubmedds = convert_pubmed_to_yn(pubmed, list(map(int, list(pubmed_test.keys()))))"
   ]
  },
  {
   "cell_type": "code",
   "execution_count": 3,
   "metadata": {},
   "outputs": [],
   "source": [
    "# dataset = load_dataset('bigbio/bioasq_task_b')\n",
    "#ds = load_dataset(\"kroshan/BioASQ\")\n",
    "with open('datasets/BioASQ-training12b/training12b_new.json', 'r') as f:\n",
    "  bio_train_data = json.load(f)\n",
    "with open('datasets/Task12BGoldenEnriched/12B1_golden.json', 'r') as f:\n",
    "  bio_test_data1 = json.load(f)\n",
    "with open('datasets/Task12BGoldenEnriched/12B2_golden.json', 'r') as f:\n",
    "  bio_test_data2 = json.load(f)\n",
    "with open('datasets/Task12BGoldenEnriched/12B3_golden.json', 'r') as f:\n",
    "  bio_test_data3 = json.load(f)\n",
    "with open('datasets/Task12BGoldenEnriched/12B4_golden.json', 'r') as f:\n",
    "  bio_test_data4 = json.load(f)\n",
    "golden = [bio_test_data1, bio_test_data2, bio_test_data3, bio_test_data4]\n",
    "biods = convert_bioasq_to_yn(bio_train_data, [])\n"
   ]
  },
  {
   "cell_type": "code",
   "execution_count": 97,
   "metadata": {},
   "outputs": [],
   "source": [
    "\n",
    "with open('boolq_perturbed.json', 'r') as f:\n",
    "  json_data = json.load(f)\n",
    "contrast = convert_contrast_to_yn(json_data)"
   ]
  },
  {
   "cell_type": "code",
   "execution_count": 104,
   "metadata": {},
   "outputs": [],
   "source": [
    "boolq = load_dataset(\"boolq\")"
   ]
  },
  {
   "cell_type": "code",
   "execution_count": 110,
   "metadata": {},
   "outputs": [],
   "source": [
    "convboolq = convert_boolq_to_yn(boolq)"
   ]
  },
  {
   "cell_type": "code",
   "execution_count": 4,
   "metadata": {},
   "outputs": [
    {
     "name": "stdout",
     "output_type": "stream",
     "text": [
      "\n",
      "Label distribution in train split:\n",
      "yes: 1003 (73.91%)\n",
      "no: 354 (26.09%)\n",
      "Total examples in train: 1357\n"
     ]
    }
   ],
   "source": [
    "biods\n",
    "\n",
    "for split in biods.keys():\n",
    "  labels = biods[split]['label']\n",
    "  label_counts = {}\n",
    "  for label in labels:\n",
    "      label_counts[label] = label_counts.get(label, 0) + 1\n",
    "  print(f\"\\nLabel distribution in {split} split:\")\n",
    "  for label, count in label_counts.items():\n",
    "      print(f\"{label}: {count} ({count/len(labels)*100:.2f}%)\")\n",
    "  print(f\"Total examples in {split}: {len(labels)}\")"
   ]
  },
  {
   "cell_type": "code",
   "execution_count": 114,
   "metadata": {},
   "outputs": [
    {
     "name": "stdout",
     "output_type": "stream",
     "text": [
      "2.426232593150169\n",
      "85\n",
      "0\n",
      "0\n"
     ]
    }
   ],
   "source": [
    "total_lens = 0\n",
    "ab256 = 0\n",
    "ab128 = 0\n",
    "ab512 = 0\n",
    "for ex in contrast['train']:\n",
    "  lenex = len(ex['context'].split(' '))\n",
    "  total_lens += lenex\n",
    "  if(lenex>512):\n",
    "    ab512+=1\n",
    "  if(lenex>256):\n",
    "    ab256+=1\n",
    "  if(lenex>128):\n",
    "    ab128+=1\n",
    "print(total_lens/15942)\n",
    "print(ab128)\n",
    "print(ab256)\n",
    "print(ab512)"
   ]
  },
  {
   "cell_type": "code",
   "execution_count": 73,
   "metadata": {},
   "outputs": [
    {
     "data": {
      "text/plain": [
       "{'train': {'question': 'Can tailored interventions increase mammography use among HMO women?',\n",
       "  'context': 'Telephone counseling and tailored print communications have emerged as promising methods for promoting mammography screening. However, there has been little research testing, within the same randomized field trial, of the efficacy of these two methods compared to a high-quality usual care system for enhancing screening. This study addressed the question: Compared to usual care, is tailored telephone counseling more effective than tailored print materials for promoting mammography screening? Three-year randomized field trial. One thousand ninety-nine women aged 50 and older recruited from a health maintenance organization in North Carolina. Women were randomized to 1 of 3 groups: (1) usual care, (2) tailored print communications, and (3) tailored telephone counseling. Adherence to mammography screening based on self-reports obtained during 1995, 1996, and 1997. Compared to usual care alone, telephone counseling promoted a significantly higher proportion of women having mammograms on schedule (71% vs 61%) than did tailored print (67% vs 61%) but only after the first year of intervention (during 1996). Furthermore, compared to usual care, telephone counseling was more effective than tailored print materials at promoting being on schedule with screening during 1996 and 1997 among women who were off-schedule during the previous year.',\n",
       "  'label': 'yes',\n",
       "  'id': 10808977},\n",
       " 'test': {'question': 'Do mitochondria play a role in remodelling lace plant leaves during programmed cell death?',\n",
       "  'context': 'Programmed cell death (PCD) is the regulated death of cells within an organism. The lace plant (Aponogeton madagascariensis) produces perforations in its leaves through PCD. The leaves of the plant consist of a latticework of longitudinal and transverse veins enclosing areoles. PCD occurs in the cells at the center of these areoles and progresses outwards, stopping approximately five cells from the vasculature. The role of mitochondria during PCD has been recognized in animals; however, it has been less studied during PCD in plants. The following paper elucidates the role of mitochondrial dynamics during developmentally regulated PCD in vivo in A. madagascariensis. A single areole within a window stage leaf (PCD is occurring) was divided into three areas based on the progression of PCD; cells that will not undergo PCD (NPCD), cells in early stages of PCD (EPCD), and cells in late stages of PCD (LPCD). Window stage leaves were stained with the mitochondrial dye MitoTracker Red CMXRos and examined. Mitochondrial dynamics were delineated into four categories (M1-M4) based on characteristics including distribution, motility, and membrane potential (ΔΨm). A TUNEL assay showed fragmented nDNA in a gradient over these mitochondrial stages. Chloroplasts and transvacuolar strands were also examined using live cell imaging. The possible importance of mitochondrial permeability transition pore (PTP) formation during PCD was indirectly examined via in vivo cyclosporine A (CsA) treatment. This treatment resulted in lace plant leaves with a significantly lower number of perforations compared to controls, and that displayed mitochondrial dynamics similar to that of non-PCD cells.',\n",
       "  'label': 'yes',\n",
       "  'id': 21645374}}"
      ]
     },
     "execution_count": 73,
     "metadata": {},
     "output_type": "execute_result"
    }
   ],
   "source": [
    "new = {split: {key: pubmedds[split][0][key] for key in ['question', 'context', 'label', 'id']} for split in pubmedds.keys()}\n",
    "new"
   ]
  },
  {
   "cell_type": "code",
   "execution_count": 35,
   "metadata": {},
   "outputs": [
    {
     "name": "stderr",
     "output_type": "stream",
     "text": [
      "Map: 100%|██████████| 128/128 [00:00<00:00, 347.82 examples/s]\n"
     ]
    }
   ],
   "source": [
    "tokenizer = AutoTokenizer.from_pretrained('./output/yn_models/boolq-art')\n",
    "\n",
    "train_dataset = biotrain['train']\n",
    "train_dataset = train_dataset.select(range(128))\n",
    "\n",
    "train_dataset = train_dataset.map(\n",
    "    lambda x: prepare_dataset_yn(x, tokenizer, 128),\n",
    "    batched=True,\n",
    "    remove_columns=train_dataset.column_names\n",
    ")"
   ]
  },
  {
   "cell_type": "code",
   "execution_count": 90,
   "metadata": {},
   "outputs": [],
   "source": [
    "ex = 'All but two of the universities in the Russell Group are part of the Sutton Trusts group of 30 highly selective universities, the Sutton Trust 30 (the absent members being Queen Mary University of London and Queens University Belfast). The Sutton 13 group of the 13 most highly selective universities only includes one non-Russell Group member, the University of St Andrews. St Andrews was also the only non-Russell Group University in the top 10 by average UCAS tariff score of new undergraduate students in 2015--16, placing fifth with an average score of 525 (and an offer rate of 52.2%). Half of the Russell Group made offers to more than three quarter of their undergraduate applicants in 2015.'"
   ]
  },
  {
   "cell_type": "code",
   "execution_count": 91,
   "metadata": {},
   "outputs": [
    {
     "data": {
      "text/plain": [
       "117"
      ]
     },
     "execution_count": 91,
     "metadata": {},
     "output_type": "execute_result"
    }
   ],
   "source": [
    "len(ex.split(' '))"
   ]
  },
  {
   "cell_type": "code",
   "execution_count": 5,
   "metadata": {},
   "outputs": [],
   "source": [
    "control = {\n",
    "  \"total_f1\": 0.6236936577582768,\n",
    "  \"total_exact_match\": 0.6426966292134831,\n",
    "  \"total_precision\": 0.6229406049340993,\n",
    "  \"total_recall\": 0.6247856101535032,\n",
    "  \"yes_f1\": 0.708256880733945,\n",
    "  \"yes_precision\": 0.7174721189591078,\n",
    "  \"yes_recall\": 0.6992753623188406,\n",
    "  \"yes_exact_match\": 0.4337078651685393,\n",
    "  \"no_f1\": 0.5391304347826087,\n",
    "  \"no_precision\": 0.5284090909090909,\n",
    "  \"no_recall\": 0.5502958579881657,\n",
    "  \"no_exact_match\": 0.20898876404494382\n",
    "}\n",
    "\n",
    "exp = {\n",
    "  \"total_f1\": 0.6685127607203005,\n",
    "  \"total_exact_match\": 0.6898876404494382,\n",
    "  \"total_precision\": 0.6698864378018535,\n",
    "  \"total_recall\": 0.6674170311294058,\n",
    "  \"yes_f1\": 0.7526881720430108,\n",
    "  \"yes_precision\": 0.7446808510638298,\n",
    "  \"yes_recall\": 0.7608695652173914,\n",
    "  \"yes_exact_match\": 0.47191011235955055,\n",
    "  \"no_f1\": 0.5843373493975904,\n",
    "  \"no_precision\": 0.5950920245398773,\n",
    "  \"no_recall\": 0.5739644970414202,\n",
    "  \"no_exact_match\": 0.21797752808988763\n",
    "}"
   ]
  },
  {
   "cell_type": "code",
   "execution_count": 6,
   "metadata": {},
   "outputs": [],
   "source": [
    "res = {key: exp[key] - control[key] for key in control.keys()}"
   ]
  },
  {
   "cell_type": "code",
   "execution_count": 7,
   "metadata": {},
   "outputs": [
    {
     "data": {
      "text/plain": [
       "{'total_f1': 0.04481910296202374,\n",
       " 'total_exact_match': 0.04719101123595504,\n",
       " 'total_precision': 0.04694583286775422,\n",
       " 'total_recall': 0.042631420975902556,\n",
       " 'yes_f1': 0.04443129130906576,\n",
       " 'yes_precision': 0.027208732104721967,\n",
       " 'yes_recall': 0.061594202898550776,\n",
       " 'yes_exact_match': 0.03820224719101123,\n",
       " 'no_f1': 0.04520691461498172,\n",
       " 'no_precision': 0.06668293363078637,\n",
       " 'no_recall': 0.023668639053254448,\n",
       " 'no_exact_match': 0.008988764044943809}"
      ]
     },
     "execution_count": 7,
     "metadata": {},
     "output_type": "execute_result"
    }
   ],
   "source": [
    "res"
   ]
  },
  {
   "cell_type": "code",
   "execution_count": null,
   "metadata": {},
   "outputs": [],
   "source": []
  }
 ],
 "metadata": {
  "kernelspec": {
   "display_name": "lang",
   "language": "python",
   "name": "python3"
  },
  "language_info": {
   "codemirror_mode": {
    "name": "ipython",
    "version": 3
   },
   "file_extension": ".py",
   "mimetype": "text/x-python",
   "name": "python",
   "nbconvert_exporter": "python",
   "pygments_lexer": "ipython3",
   "version": "3.12.7"
  }
 },
 "nbformat": 4,
 "nbformat_minor": 2
}
